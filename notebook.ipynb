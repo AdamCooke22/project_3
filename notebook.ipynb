{
 "cells": [
  {
   "cell_type": "code",
   "execution_count": null,
   "metadata": {},
   "outputs": [],
   "source": []
  }
 ],
 "metadata": {
  "kernelspec": {
   "display_name": "Python 3.7.13 ('dev')",
   "language": "python",
   "name": "python3"
  },
  "language_info": {
   "name": "python",
   "version": "3.7.13"
  },
  "orig_nbformat": 4,
  "vscode": {
   "interpreter": {
    "hash": "a063bac13fce55cb3a4d8d2fd841e5fdacb88827a70920fd1644b19982035a56"
   }
  }
 },
 "nbformat": 4,
 "nbformat_minor": 2
}
