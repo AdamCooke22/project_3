{
  "cells": [
    {
      "cell_type": "markdown",
      "metadata": {
        "colab_type": "text",
        "id": "view-in-github"
      },
      "source": [
        "<a href=\"https://colab.research.google.com/github/AdamCooke22/project_3/blob/main/Topics2.0.ipynb\" target=\"_parent\"><img src=\"https://colab.research.google.com/assets/colab-badge.svg\" alt=\"Open In Colab\"/></a>"
      ]
    },
    {
      "cell_type": "code",
      "execution_count": null,
      "metadata": {
        "colab": {
          "base_uri": "https://localhost:8080/"
        },
        "id": "9Ixb2LT-V8lO",
        "outputId": "7626a501-c0d7-4bc9-e6cd-01049b31a903"
      },
      "outputs": [
        {
          "name": "stdout",
          "output_type": "stream",
          "text": [
            "Looking in indexes: https://pypi.org/simple, https://us-python.pkg.dev/colab-wheels/public/simple/\n",
            "Collecting gnews\n",
            "  Downloading gnews-0.2.7-py3-none-any.whl (14 kB)\n",
            "Collecting dnspython~=1.16.0\n",
            "  Downloading dnspython-1.16.0-py2.py3-none-any.whl (188 kB)\n",
            "\u001b[K     |████████████████████████████████| 188 kB 4.4 MB/s \n",
            "\u001b[?25hRequirement already satisfied: bs4~=0.0.1 in /usr/local/lib/python3.8/dist-packages (from gnews) (0.0.1)\n",
            "Collecting feedparser~=6.0.2\n",
            "  Downloading feedparser-6.0.10-py3-none-any.whl (81 kB)\n",
            "\u001b[K     |████████████████████████████████| 81 kB 5.2 MB/s \n",
            "\u001b[?25hCollecting beautifulsoup4~=4.9.3\n",
            "  Downloading beautifulsoup4-4.9.3-py3-none-any.whl (115 kB)\n",
            "\u001b[K     |████████████████████████████████| 115 kB 30.6 MB/s \n",
            "\u001b[?25hCollecting requests==2.26.0\n",
            "  Downloading requests-2.26.0-py2.py3-none-any.whl (62 kB)\n",
            "\u001b[K     |████████████████████████████████| 62 kB 290 kB/s \n",
            "\u001b[?25hCollecting pymongo~=3.12.0\n",
            "  Downloading pymongo-3.12.3-cp38-cp38-manylinux_2_17_x86_64.manylinux2014_x86_64.whl (527 kB)\n",
            "\u001b[K     |████████████████████████████████| 527 kB 45.2 MB/s \n",
            "\u001b[?25hCollecting python-dotenv~=0.19.0\n",
            "  Downloading python_dotenv-0.19.2-py2.py3-none-any.whl (17 kB)\n",
            "Requirement already satisfied: certifi>=2017.4.17 in /usr/local/lib/python3.8/dist-packages (from requests==2.26.0->gnews) (2022.9.24)\n",
            "Collecting charset-normalizer~=2.0.0\n",
            "  Downloading charset_normalizer-2.0.12-py3-none-any.whl (39 kB)\n",
            "Requirement already satisfied: idna<4,>=2.5 in /usr/local/lib/python3.8/dist-packages (from requests==2.26.0->gnews) (2.10)\n",
            "Requirement already satisfied: urllib3<1.27,>=1.21.1 in /usr/local/lib/python3.8/dist-packages (from requests==2.26.0->gnews) (1.24.3)\n",
            "Collecting soupsieve>1.2\n",
            "  Downloading soupsieve-2.3.2.post1-py3-none-any.whl (37 kB)\n",
            "Collecting sgmllib3k\n",
            "  Downloading sgmllib3k-1.0.0.tar.gz (5.8 kB)\n",
            "Building wheels for collected packages: sgmllib3k\n",
            "  Building wheel for sgmllib3k (setup.py) ... \u001b[?25l\u001b[?25hdone\n",
            "  Created wheel for sgmllib3k: filename=sgmllib3k-1.0.0-py3-none-any.whl size=6066 sha256=3e396a135d7912815fdd5f632d003f6c5b7968fc47d410f9e787e9bb8718d29a\n",
            "  Stored in directory: /root/.cache/pip/wheels/83/63/2f/117884c3b19d46b64d3d61690333aa80c88dc14050e269c546\n",
            "Successfully built sgmllib3k\n",
            "Installing collected packages: soupsieve, sgmllib3k, charset-normalizer, beautifulsoup4, requests, python-dotenv, pymongo, feedparser, dnspython, gnews\n",
            "  Attempting uninstall: charset-normalizer\n",
            "    Found existing installation: charset-normalizer 2.1.1\n",
            "    Uninstalling charset-normalizer-2.1.1:\n",
            "      Successfully uninstalled charset-normalizer-2.1.1\n",
            "  Attempting uninstall: beautifulsoup4\n",
            "    Found existing installation: beautifulsoup4 4.6.3\n",
            "    Uninstalling beautifulsoup4-4.6.3:\n",
            "      Successfully uninstalled beautifulsoup4-4.6.3\n",
            "  Attempting uninstall: requests\n",
            "    Found existing installation: requests 2.23.0\n",
            "    Uninstalling requests-2.23.0:\n",
            "      Successfully uninstalled requests-2.23.0\n",
            "  Attempting uninstall: pymongo\n",
            "    Found existing installation: pymongo 4.3.3\n",
            "    Uninstalling pymongo-4.3.3:\n",
            "      Successfully uninstalled pymongo-4.3.3\n",
            "  Attempting uninstall: dnspython\n",
            "    Found existing installation: dnspython 2.2.1\n",
            "    Uninstalling dnspython-2.2.1:\n",
            "      Successfully uninstalled dnspython-2.2.1\n",
            "Successfully installed beautifulsoup4-4.9.3 charset-normalizer-2.0.12 dnspython-1.16.0 feedparser-6.0.10 gnews-0.2.7 pymongo-3.12.3 python-dotenv-0.19.2 requests-2.26.0 sgmllib3k-1.0.0 soupsieve-2.3.2.post1\n"
          ]
        }
      ],
      "source": [
        "pip install gnews"
      ]
    },
    {
      "cell_type": "code",
      "execution_count": 80,
      "metadata": {
        "colab": {
          "base_uri": "https://localhost:8080/"
        },
        "id": "1I2w1WUoWSiU",
        "outputId": "70eb4069-90a4-4c79-f99a-8133eff2e730"
      },
      "outputs": [
        {
          "name": "stdout",
          "output_type": "stream",
          "text": [
            "United States to Co-Host the Fifth Indo-Pacific Business Forum - United States Department of State - Department of State\n",
            "Small business newsletter for December 2022 | San Francisco - City and County of San Francisco\n",
            "Wyoming Business Tips for Dec. 5-11 | News - University of Wyoming News\n",
            "A Young Professional's Guide to SXSW: 5 Business Goals to Accomplish - sxsw.com\n",
            "Create Fest combines engineering minds, business savvy to develop marketable inventions » Liberty News - Liberty University\n",
            "Chatham Co. delegation looks ahead to 2023 after year of booming business - WTOC\n",
            "Wells Fargo cuts hundreds of jobs in mortgage business - Bloomberg News - Reuters\n",
            "Is Now the Right Time for Your Business to Buy Real Estate? - The Courier-Times\n",
            "How To Get A Free Business Phone Number - Nasdaq\n",
            "51% of Business Execs Say U.S. is Already in Recession - CPAPracticeAdvisor.com\n",
            "Smart Growth Summit to focus on downtowns, small business and development - Long Island Business News\n",
            "Small Business Saturday was boost in sales in Nashville for some but not all - News Channel 5 Nashville\n",
            "Metro Detroit business openings, closings fall 2022 - Hometown Life\n",
            "What's the Difference Between a Startup and a Small Business? - Entrepreneur\n",
            "Business briefs - Greenfield Daily Reporter\n",
            "LMI forms space business through acquisition - Washington Technology\n",
            "Small business owners look forward to year 2 of Formula 1 in Miami Gardens - CBS Miami\n",
            "Fit Comes First: The Business Of Talent - Chief Executive\n",
            "Secretary Blinken to Deliver Remarks at the Business Council for International Understanding (BCIU) World AIDS Day Commemoration - United States Department of State - Department of State\n",
            "Your business probably has a Gen Z problem — just not the one you think - KXAN.com\n",
            "Intel staff in Ireland offered unpaid leave in cost-cutting drive - Business Post - Reuters\n",
            "Some fun, and not so fun, facts about Nevada from a ranking of the best states for business - Nevada Current\n",
            "Memphis business news: Promotions, hirings, achievers and company news - Commercial Appeal\n",
            "UTEP receives $25 million and names the college of business - El Paso Times\n",
            "PNC Business Checking Review – Forbes Advisor - Banking - Forbes\n",
            "CNN lays off hundreds of staffers after business review − read the memo - CNBC\n",
            "EU: New business sustainability law risks being undermined by glaring human rights loopholes - Amnesty International\n",
            "Oprah Shared 3 Tips for Business Success. But Here's Why They Might Not All Work for You - The Motley Fool\n",
            "Ernst Joins Iowa Women Small Business Owners for Entrepreneurship Panel | U.S. Senator Joni Ernst of Iowa - Senator Joni Ernst\n",
            "3 Ways Business Partners Can Better Align On ‘Big-Picture’ Goals - Forbes\n",
            "Newsroom | Women's Impact on Business World Celebrated at Holy Cross Conference - Holy Cross News\n",
            "Rebooted XFL Taps NBC Sports Lawyer as Legal, Business Chief (1) - Bloomberg Law\n",
            "Philadelphia businesses have gotten cooked in past elections. Can they change the menu in 2023? - The Business Journals\n",
            "Accenture Completes Acquisition of ARZ's Staff and Business Assets - Newsroom | Accenture\n",
            "Survey: Business forecast dimming for region that includes Nebraska - Nebraska Examiner\n",
            "Ground Works in Westlake now in the artificial turf business - cleveland.com\n",
            "Altice USA to keep Suddenlink business after strategic review - Reuters\n",
            "Live from the Stanford Graduate School of Business - Bloomberg\n",
            "The University of New Mexico earns Family Friendly Business Award - UNM Newsroom\n",
            "‘Cash is king, but care is queen’: Business executives share how impact leadership transforms their workplace - Fortune\n",
            "Weekday Wrap: Renaming Lane County; Jackson County accepts psilocybin business regulations - Oregon Public Broadcasting\n",
            "New business to open at former Kroger in downtown Clarksburg - WDTV\n",
            "5 Reasons Every Small Business Owner Needs a Business Credit Card - The Motley Fool\n",
            "American Express Launches Amex Business Link Digital B2B Payments Ecosystem - CPAPracticeAdvisor.com\n",
            "Business dean hosts fireside chat with Navy Assistant Secretary Alaleh Jenkins - George Mason University\n",
            "Quincy Area Chamber of Commerce to induct two into Business Hall of Fame - WGEM\n",
            "National awards for UH Pacific Business Center Program | University of Hawaiʻi System News - University of Hawaii\n",
            "OMV to establish three business divisions as part of 2030 strategy - Reuters\n",
            "12/01/2022 | A Week In Business – December 2, 2022 | News Ocean City MD - The Dispatch\n",
            "New sandwich shop is first bite at restaurant business for Haitian immigrant - WUFT\n",
            "Los Angeles Man Found Guilty of Stealing More Than $150000 and Attempting to Steal Nearly $1.9 Million More in COVID Business Loans - Department of Justice\n",
            "Tycoon Tony Fernandes’ Capital A To Consolidate Aviation Business Under AirAsia X Amid Travel Rebound - Forbes\n",
            "Bay/LSSU Business Students Continue Collecting Coats, Winter Clothes - Radioresultsnetwork.com\n",
            "Bend Chamber seeks nominations for 2023 Business Excellence Awards - KTVZ\n",
            "CEO of multimillion-dollar company Casetify shares his No. 1 'super underrated' business tip - CNBC\n",
            "OPINION: Anti-'woke' Republicans aren't making business sense on climate - Anchorage Daily News\n",
            "AEA Survey Shows Optimism, Increased Cost of Business - Aviation International News\n",
            "Verizon Business takes 5G Innovation Sessions series to Phoenix - Verizon\n",
            "Mainframe modernization crucial to effectively exploit business opportunities - SiliconANGLE News\n",
            "Portland business admits to selling psilocybin mushrooms - KOIN.com\n",
            "U of I business robbed after checks stolen, altered - wcia.com\n",
            "Better Business Bureau details the biggest scams to look out for as you shop for the holidays - KCRA Sacramento\n",
            "Verizon Business and Wipro partner with Network-as-a-Service offering - Verizon\n",
            "Hawaii Business Magazine's Most Popular Stories of 2022 - Hawaii Business Magazine\n",
            "White House state dinner draws names from arts, fashion, business - WVLT\n",
            "Is Amazon Going After Nvidia, Intel, and AMD Business? - The Motley Fool\n",
            "Smooth sailing for local cruise business in 2022 - The Boston Globe\n",
            "Finalist to win $150,000 to locate business in southeast FW - WPTA 21\n",
            "Lasting Impact: Realogy's Henry Silverman brought a new model to the business - RealTrends\n",
            "Manufacturing PMI® at 49%; November 2022 Manufacturing ISM® Report On Business® - PR Newswire\n",
            "What to expect from Friday's jobs report - CNN\n",
            "China's Tencent bets on cloud computing growth abroad as its core video games business takes a beating - CNBC\n",
            "UnitedHealth Group Updates Business Outlook Ahead of Investor Conference - UnitedHealth Group\n",
            "SK Capital Partners and Edgewater Capital Partners Close Acquisition of Crystals Business from Saint-Gobain - Yahoo Finance\n",
            "Florida divesting $2 billion from BlackRock over firm's ESG push - Fox Business\n",
            "South Milwaukee woman runs growing handmade earrings small business - Milwaukee Journal Sentinel\n",
            "Kansas City Business Journal opens nominations for its 2023 awards programs - Kansas City Business Journal - The Business Journals\n",
            "Cloud Stocks Diverge in Face of Lower Business Spending. Salesforce Falls. - Barron's\n",
            "Nine Holiday Promotions and Initiatives That Can Help Your Business Stand Out - Rolling Stone\n",
            "Business Travel’s Rebound Is Being Hit by a Slowing Economy - The New York Times\n",
            "Atos launches AWS Data Lake Accelerator for SAP increasing customers' business performance and outcomes - PR Newswire\n",
            "World Leaders, Business Titans and Crypto’s Fallen Star - The New York Times\n",
            "Kanye West is no longer acquiring Parler, company says - CNN\n",
            "FTX founder Sam Bankman-Fried: 'Look, I screwed up' - CNN\n",
            "Mariah Carey Is My Business Icon: 5 Things Entrepreneurs Can Learn From 'the Woman Who Stole Christmas' - Entrepreneur\n",
            "RBC's Canadian Business Drives Earnings Ahead of HSBC Deal - Bloomberg\n",
            "ZeroEyes CEO Mike Lahiff Receives Philadelphia Business Journal's 2022 Veterans of Influence Award - PR Newswire\n",
            "Consumers are keeping the economy afloat... for now - CNN\n",
            "Business Update: Mandy Rae's offers permanent options for salon's clients - Sauk Valley Media\n",
            "Neighbors in Grove City worried about planned fireworks business - ABC6OnYourSide.com\n",
            "Business Update: New footwear store offers fancy sneakers - Sauk Valley Media\n",
            "Aloft landing business from Fiserv Forum, sees positive 2023 outlook - Milwaukee Business Journal - The Business Journals\n",
            "Man wanted after stealing lottery ticket display from Memphis business, police say - FOX13 Memphis\n",
            "The golf business continues to ride its pandemic wave: Morning Brief - Yahoo Finance\n",
            "Have the Anticapitalists Reached Harvard Business School? - The New York Times\n",
            "Amazon shutting down wholesale distribution in third business exit in India - TechCrunch\n",
            "The colossal failure of Amazon's Alexa business model - Business Insider\n",
            "The Only Business Idea You Need to Start Making Money - Entrepreneur\n",
            "Tesla Stock Burned As Musk Goes Ballistic on Twitter - Investor's Business Daily\n",
            "Jeff Bezos' top tips for managing the economic downturn - CNN\n"
          ]
        }
      ],
      "source": [
        "from gnews import GNews\n",
        "\n",
        "google_news = GNews()\n",
        "business = google_news.get_news('Business')\n",
        "for item in business:\n",
        "  print(item.get('title','url'))"
      ]
    },
    {
      "cell_type": "code",
      "execution_count": 81,
      "metadata": {
        "id": "sS1ZJwcPY3is"
      },
      "outputs": [],
      "source": [
        "import pandas as pd"
      ]
    },
    {
      "cell_type": "code",
      "execution_count": 95,
      "metadata": {
        "colab": {
          "base_uri": "https://localhost:8080/",
          "height": 49
        },
        "id": "-BXqDOsLYpr1",
        "outputId": "129db14a-18e1-40b1-e5ba-8512c0c66ab2"
      },
      "outputs": [
        {
          "data": {
            "text/html": [
              "\n",
              "  <div id=\"df-3c782a48-90de-48b0-b6ee-027e5f3d3737\">\n",
              "    <div class=\"colab-df-container\">\n",
              "      <div>\n",
              "<style scoped>\n",
              "    .dataframe tbody tr th:only-of-type {\n",
              "        vertical-align: middle;\n",
              "    }\n",
              "\n",
              "    .dataframe tbody tr th {\n",
              "        vertical-align: top;\n",
              "    }\n",
              "\n",
              "    .dataframe thead th {\n",
              "        text-align: right;\n",
              "    }\n",
              "</style>\n",
              "<table border=\"1\" class=\"dataframe\">\n",
              "  <thead>\n",
              "    <tr style=\"text-align: right;\">\n",
              "      <th></th>\n",
              "      <th>title</th>\n",
              "      <th>published date</th>\n",
              "      <th>url</th>\n",
              "    </tr>\n",
              "  </thead>\n",
              "  <tbody>\n",
              "  </tbody>\n",
              "</table>\n",
              "</div>\n",
              "      <button class=\"colab-df-convert\" onclick=\"convertToInteractive('df-3c782a48-90de-48b0-b6ee-027e5f3d3737')\"\n",
              "              title=\"Convert this dataframe to an interactive table.\"\n",
              "              style=\"display:none;\">\n",
              "        \n",
              "  <svg xmlns=\"http://www.w3.org/2000/svg\" height=\"24px\"viewBox=\"0 0 24 24\"\n",
              "       width=\"24px\">\n",
              "    <path d=\"M0 0h24v24H0V0z\" fill=\"none\"/>\n",
              "    <path d=\"M18.56 5.44l.94 2.06.94-2.06 2.06-.94-2.06-.94-.94-2.06-.94 2.06-2.06.94zm-11 1L8.5 8.5l.94-2.06 2.06-.94-2.06-.94L8.5 2.5l-.94 2.06-2.06.94zm10 10l.94 2.06.94-2.06 2.06-.94-2.06-.94-.94-2.06-.94 2.06-2.06.94z\"/><path d=\"M17.41 7.96l-1.37-1.37c-.4-.4-.92-.59-1.43-.59-.52 0-1.04.2-1.43.59L10.3 9.45l-7.72 7.72c-.78.78-.78 2.05 0 2.83L4 21.41c.39.39.9.59 1.41.59.51 0 1.02-.2 1.41-.59l7.78-7.78 2.81-2.81c.8-.78.8-2.07 0-2.86zM5.41 20L4 18.59l7.72-7.72 1.47 1.35L5.41 20z\"/>\n",
              "  </svg>\n",
              "      </button>\n",
              "      \n",
              "  <style>\n",
              "    .colab-df-container {\n",
              "      display:flex;\n",
              "      flex-wrap:wrap;\n",
              "      gap: 12px;\n",
              "    }\n",
              "\n",
              "    .colab-df-convert {\n",
              "      background-color: #E8F0FE;\n",
              "      border: none;\n",
              "      border-radius: 50%;\n",
              "      cursor: pointer;\n",
              "      display: none;\n",
              "      fill: #1967D2;\n",
              "      height: 32px;\n",
              "      padding: 0 0 0 0;\n",
              "      width: 32px;\n",
              "    }\n",
              "\n",
              "    .colab-df-convert:hover {\n",
              "      background-color: #E2EBFA;\n",
              "      box-shadow: 0px 1px 2px rgba(60, 64, 67, 0.3), 0px 1px 3px 1px rgba(60, 64, 67, 0.15);\n",
              "      fill: #174EA6;\n",
              "    }\n",
              "\n",
              "    [theme=dark] .colab-df-convert {\n",
              "      background-color: #3B4455;\n",
              "      fill: #D2E3FC;\n",
              "    }\n",
              "\n",
              "    [theme=dark] .colab-df-convert:hover {\n",
              "      background-color: #434B5C;\n",
              "      box-shadow: 0px 1px 3px 1px rgba(0, 0, 0, 0.15);\n",
              "      filter: drop-shadow(0px 1px 2px rgba(0, 0, 0, 0.3));\n",
              "      fill: #FFFFFF;\n",
              "    }\n",
              "  </style>\n",
              "\n",
              "      <script>\n",
              "        const buttonEl =\n",
              "          document.querySelector('#df-3c782a48-90de-48b0-b6ee-027e5f3d3737 button.colab-df-convert');\n",
              "        buttonEl.style.display =\n",
              "          google.colab.kernel.accessAllowed ? 'block' : 'none';\n",
              "\n",
              "        async function convertToInteractive(key) {\n",
              "          const element = document.querySelector('#df-3c782a48-90de-48b0-b6ee-027e5f3d3737');\n",
              "          const dataTable =\n",
              "            await google.colab.kernel.invokeFunction('convertToInteractive',\n",
              "                                                     [key], {});\n",
              "          if (!dataTable) return;\n",
              "\n",
              "          const docLinkHtml = 'Like what you see? Visit the ' +\n",
              "            '<a target=\"_blank\" href=https://colab.research.google.com/notebooks/data_table.ipynb>data table notebook</a>'\n",
              "            + ' to learn more about interactive tables.';\n",
              "          element.innerHTML = '';\n",
              "          dataTable['output_type'] = 'display_data';\n",
              "          await google.colab.output.renderOutput(dataTable, element);\n",
              "          const docLink = document.createElement('div');\n",
              "          docLink.innerHTML = docLinkHtml;\n",
              "          element.appendChild(docLink);\n",
              "        }\n",
              "      </script>\n",
              "    </div>\n",
              "  </div>\n",
              "  "
            ],
            "text/plain": [
              "Empty DataFrame\n",
              "Columns: [title, published date, url]\n",
              "Index: []"
            ]
          },
          "execution_count": 95,
          "metadata": {},
          "output_type": "execute_result"
        }
      ],
      "source": [
        "business_df = pd.DataFrame()\n",
        "titles=pd.DataFrame()\n",
        "published_date=pd.DataFrame()\n",
        "url=pd.DataFrame()\n",
        "\n",
        "for item in business:\n",
        "  business_df[\"title\"]=item.get('title')\n",
        "  business_df[\"published date\"]=item.get('published date')\n",
        "  business_df[\"url\"]=item.get('url')\n",
        "  business_df.append(business_df)\n",
        "business_df.head(10)"
      ]
    },
    {
      "cell_type": "code",
      "execution_count": null,
      "metadata": {
        "colab": {
          "base_uri": "https://localhost:8080/"
        },
        "id": "vkY2YLDRg9IP",
        "outputId": "0e4bfa85-502f-45c6-dcdd-0ee743139d3a"
      },
      "outputs": [
        {
          "data": {
            "text/plain": [
              "list"
            ]
          },
          "execution_count": 42,
          "metadata": {},
          "output_type": "execute_result"
        }
      ],
      "source": [
        "type(business)"
      ]
    },
    {
      "cell_type": "code",
      "execution_count": null,
      "metadata": {
        "id": "beBCh5QVeMGY"
      },
      "outputs": [],
      "source": [
        "business_df= business_df.filter([\"url\"])"
      ]
    },
    {
      "cell_type": "code",
      "execution_count": null,
      "metadata": {
        "colab": {
          "base_uri": "https://localhost:8080/"
        },
        "id": "4YAB2NGzfZ8G",
        "outputId": "0e2ae46b-8aa4-446a-ba77-8180c66e984c"
      },
      "outputs": [
        {
          "name": "stdout",
          "output_type": "stream",
          "text": [
            "Empty DataFrame\n",
            "Columns: []\n",
            "Index: [0, 1, 2, 3, 4, 5, 6, 7, 8, 9, 10, 11, 12, 13, 14, 15, 16, 17, 18, 19, 20, 21, 22, 23, 24, 25, 26, 27, 28, 29, 30, 31, 32, 33, 34, 35, 36, 37, 38, 39, 40, 41, 42, 43, 44, 45, 46, 47, 48, 49, 50, 51, 52, 53, 54, 55, 56, 57, 58, 59, 60, 61, 62, 63, 64, 65, 66, 67, 68, 69, 70, 71, 72, 73, 74, 75, 76, 77, 78, 79, 80, 81, 82, 83, 84, 85, 86, 87, 88, 89, 90, 91, 92, 93, 94, 95, 96, 97, 98, 99]\n",
            "\n",
            "[100 rows x 0 columns]\n"
          ]
        }
      ],
      "source": [
        "print(business_df)"
      ]
    },
    {
      "cell_type": "code",
      "execution_count": null,
      "metadata": {
        "colab": {
          "base_uri": "https://localhost:8080/"
        },
        "id": "wyTITbj9WSfm",
        "outputId": "ce74d4ab-90aa-4f82-d59c-a8d96db0d3b1"
      },
      "outputs": [
        {
          "name": "stdout",
          "output_type": "stream",
          "text": [
            "{'title': \"Dezeen's guide to the 2022 FIFA World Cup Qatar stadium architecture - Dezeen\", 'description': \"Dezeen's guide to the 2022 FIFA World Cup Qatar stadium architecture  Dezeen\", 'published date': 'Tue, 15 Nov 2022 08:00:00 GMT', 'url': 'https://www.dezeen.com/2022/11/15/2022-fifa-world-cup-qatar-stadium-architecture/', 'publisher': {'href': 'https://www.dezeen.com', 'title': 'Dezeen'}}\n"
          ]
        }
      ],
      "source": [
        "google_news = GNews()\n",
        "world = google_news.get_news('world')\n",
        "print(world[0-5])"
      ]
    },
    {
      "cell_type": "code",
      "execution_count": null,
      "metadata": {
        "colab": {
          "base_uri": "https://localhost:8080/"
        },
        "id": "9VEdWD8aZVaD",
        "outputId": "c29f60cb-421b-47aa-d4bb-53a16cd318e0"
      },
      "outputs": [
        {
          "name": "stdout",
          "output_type": "stream",
          "text": [
            "                                                title  \\\n",
            "0   2022 World Cup: Japan's run continues in rally...   \n",
            "1   2022 World Cup: Japan, Spain advance as German...   \n",
            "2   2022 World Cup Bracket: The Knockout Stage - T...   \n",
            "3   Thomas Muller calls Germany World Cup 'absolut...   \n",
            "4   Croatia reach World Cup last 16, send Belgium'...   \n",
            "..                                                ...   \n",
            "95  Dezeen's guide to the 2022 FIFA World Cup Qata...   \n",
            "96  CNBC Stock World Cup 2022: Recap of winners an...   \n",
            "97  Don’t download Qatar World Cup apps, EU data a...   \n",
            "98  Twitter has ‘50% chance’ of major crash during...   \n",
            "99  US use rainbow logo at Qatar World Cup in supp...   \n",
            "\n",
            "                                          description  \\\n",
            "0   2022 World Cup: Japan's run continues in rally...   \n",
            "1   2022 World Cup: Japan, Spain advance as German...   \n",
            "2   2022 World Cup Bracket: The Knockout Stage  Th...   \n",
            "3   Thomas Muller calls Germany World Cup 'absolut...   \n",
            "4   Croatia reach World Cup last 16, send Belgium'...   \n",
            "..                                                ...   \n",
            "95  Dezeen's guide to the 2022 FIFA World Cup Qata...   \n",
            "96  CNBC Stock World Cup 2022: Recap of winners an...   \n",
            "97  Don’t download Qatar World Cup apps, EU data a...   \n",
            "98  Twitter has ‘50% chance’ of major crash during...   \n",
            "99  US use rainbow logo at Qatar World Cup in supp...   \n",
            "\n",
            "                   published date  \\\n",
            "0   Thu, 01 Dec 2022 21:09:13 GMT   \n",
            "1   Fri, 02 Dec 2022 00:04:06 GMT   \n",
            "2   Thu, 01 Dec 2022 21:06:06 GMT   \n",
            "3   Thu, 01 Dec 2022 22:22:56 GMT   \n",
            "4   Thu, 01 Dec 2022 17:03:25 GMT   \n",
            "..                            ...   \n",
            "95  Tue, 15 Nov 2022 08:00:00 GMT   \n",
            "96  Thu, 03 Nov 2022 07:00:00 GMT   \n",
            "97  Tue, 15 Nov 2022 08:00:00 GMT   \n",
            "98  Sat, 19 Nov 2022 08:00:00 GMT   \n",
            "99  Mon, 14 Nov 2022 08:00:00 GMT   \n",
            "\n",
            "                                                  url  \\\n",
            "0   https://www.espn.com/soccer/fifa-world-cup/sto...   \n",
            "1   https://www.espn.com/soccer/fifa-world-cup/sto...   \n",
            "2   https://www.nytimes.com/interactive/2022/sport...   \n",
            "3   https://www.espn.com/soccer/germany-ger/story/...   \n",
            "4   https://www.espn.com/soccer/fifa-world-cup/sto...   \n",
            "..                                                ...   \n",
            "95  https://www.dezeen.com/2022/11/15/2022-fifa-wo...   \n",
            "96  https://www.cnbc.com/2022/11/03/how-the-cnbc-s...   \n",
            "97  https://www.politico.eu/article/qatar-world-cu...   \n",
            "98  https://www.theguardian.com/technology/2022/no...   \n",
            "99  https://www.theguardian.com/football/2022/nov/...   \n",
            "\n",
            "                                            publisher  \n",
            "0   {'href': 'https://www.espn.com', 'title': 'ESPN'}  \n",
            "1   {'href': 'https://www.espn.com', 'title': 'ESPN'}  \n",
            "2   {'href': 'https://www.nytimes.com', 'title': '...  \n",
            "3   {'href': 'https://www.espn.com', 'title': 'ESPN'}  \n",
            "4   {'href': 'https://www.espn.com', 'title': 'ESPN'}  \n",
            "..                                                ...  \n",
            "95  {'href': 'https://www.dezeen.com', 'title': 'D...  \n",
            "96  {'href': 'https://www.cnbc.com', 'title': 'CNBC'}  \n",
            "97  {'href': 'https://www.politico.eu', 'title': '...  \n",
            "98  {'href': 'https://www.theguardian.com', 'title...  \n",
            "99  {'href': 'https://www.theguardian.com', 'title...  \n",
            "\n",
            "[100 rows x 5 columns]\n"
          ]
        }
      ],
      "source": [
        "world_df = pd.DataFrame(world)\n",
        "print(world_df)"
      ]
    },
    {
      "cell_type": "code",
      "execution_count": null,
      "metadata": {
        "colab": {
          "base_uri": "https://localhost:8080/"
        },
        "id": "LBP9mjp6WSc6",
        "outputId": "9e5fd2fa-7363-4456-cc65-010bd415516d"
      },
      "outputs": [
        {
          "name": "stdout",
          "output_type": "stream",
          "text": [
            "{'title': 'Ticketmaster’s Parent Company Said to Face Justice Department Investigation - The New York Times', 'description': 'Ticketmaster’s Parent Company Said to Face Justice Department Investigation  The New York Times', 'published date': 'Fri, 18 Nov 2022 08:00:00 GMT', 'url': 'https://www.nytimes.com/2022/11/18/technology/live-nation-ticketmaster-investigation-taylor-swift.html', 'publisher': {'href': 'https://www.nytimes.com', 'title': 'The New York Times'}}\n"
          ]
        }
      ],
      "source": [
        "google_news = GNews()\n",
        "nation = google_news.get_news('nation')\n",
        "print(nation[0-5])"
      ]
    },
    {
      "cell_type": "code",
      "execution_count": null,
      "metadata": {
        "colab": {
          "base_uri": "https://localhost:8080/"
        },
        "id": "nRmdBBbBZedG",
        "outputId": "dd1faf34-bc14-40c9-8c0e-47ab7d957935"
      },
      "outputs": [
        {
          "name": "stdout",
          "output_type": "stream",
          "text": [
            "                                                title  \\\n",
            "0   Serving our nation, protecting our oceans | Th...   \n",
            "1   Around the nation: Twitter lifts its Covid-19 ...   \n",
            "2   Activists say Muscogee (Creek) Nation should h...   \n",
            "3   $25M from feds will boost Quinault Indian Nati...   \n",
            "4   UConn Nation Sets New Giving Tuesday Fundraisi...   \n",
            "..                                                ...   \n",
            "95  Ticketmaster’s Parent Company Said to Face Jus...   \n",
            "96  Live Nation Entertainment Reports Third Quarte...   \n",
            "97  Can a Nation Replace Its Oil Wealth With Trees...   \n",
            "98  Stocks making the biggest moves after hours: L...   \n",
            "99  FBI head: China has ‘stolen more’ US data ‘tha...   \n",
            "\n",
            "                                          description  \\\n",
            "0   Serving our nation, protecting our oceans | Th...   \n",
            "1   Around the nation: Twitter lifts its Covid-19 ...   \n",
            "2   Activists say Muscogee (Creek) Nation should h...   \n",
            "3   $25M from feds will boost Quinault Indian Nati...   \n",
            "4   UConn Nation Sets New Giving Tuesday Fundraisi...   \n",
            "..                                                ...   \n",
            "95  Ticketmaster’s Parent Company Said to Face Jus...   \n",
            "96  Live Nation Entertainment Reports Third Quarte...   \n",
            "97  Can a Nation Replace Its Oil Wealth With Trees...   \n",
            "98  Stocks making the biggest moves after hours: L...   \n",
            "99  FBI head: China has ‘stolen more’ US data ‘tha...   \n",
            "\n",
            "                   published date  \\\n",
            "0   Thu, 01 Dec 2022 14:19:09 GMT   \n",
            "1   Thu, 01 Dec 2022 15:45:00 GMT   \n",
            "2   Thu, 01 Dec 2022 16:20:58 GMT   \n",
            "3   Thu, 01 Dec 2022 14:00:00 GMT   \n",
            "4   Thu, 01 Dec 2022 23:28:08 GMT   \n",
            "..                            ...   \n",
            "95  Fri, 18 Nov 2022 08:00:00 GMT   \n",
            "96  Thu, 03 Nov 2022 07:00:00 GMT   \n",
            "97  Fri, 04 Nov 2022 07:00:00 GMT   \n",
            "98  Thu, 17 Nov 2022 08:00:00 GMT   \n",
            "99  Tue, 15 Nov 2022 08:00:00 GMT   \n",
            "\n",
            "                                                  url  \\\n",
            "0   https://www.legion.org/legacyscholarship/25759...   \n",
            "1   https://www.advisory.com/daily-briefing/2022/1...   \n",
            "2   https://www.ocpathink.org/post/activists-say-m...   \n",
            "3   https://www.seattletimes.com/seattle-news/envi...   \n",
            "4   https://uconnhuskies.com/news/2022/12/1/genera...   \n",
            "..                                                ...   \n",
            "95  https://www.nytimes.com/2022/11/18/technology/...   \n",
            "96  https://www.livenationentertainment.com/2022/1...   \n",
            "97  https://www.nytimes.com/2022/11/03/climate/gab...   \n",
            "98  https://www.cnbc.com/2022/11/17/stocks-making-...   \n",
            "99  https://thehill.com/policy/cybersecurity/37372...   \n",
            "\n",
            "                                            publisher  \n",
            "0   {'href': 'https://www.legion.org', 'title': 'T...  \n",
            "1   {'href': 'https://www.advisory.com', 'title': ...  \n",
            "2   {'href': 'https://www.ocpathink.org', 'title':...  \n",
            "3   {'href': 'https://www.seattletimes.com', 'titl...  \n",
            "4   {'href': 'https://uconnhuskies.com', 'title': ...  \n",
            "..                                                ...  \n",
            "95  {'href': 'https://www.nytimes.com', 'title': '...  \n",
            "96  {'href': 'https://www.livenationentertainment....  \n",
            "97  {'href': 'https://www.nytimes.com', 'title': '...  \n",
            "98  {'href': 'https://www.cnbc.com', 'title': 'CNBC'}  \n",
            "99  {'href': 'https://thehill.com', 'title': 'The ...  \n",
            "\n",
            "[100 rows x 5 columns]\n"
          ]
        }
      ],
      "source": [
        "nation_df = pd.DataFrame(nation)\n",
        "print(nation_df)"
      ]
    },
    {
      "cell_type": "code",
      "execution_count": null,
      "metadata": {
        "colab": {
          "base_uri": "https://localhost:8080/"
        },
        "id": "HHErriDvWSaO",
        "outputId": "697e246f-15a8-4b6b-c892-006b58630682"
      },
      "outputs": [
        {
          "name": "stdout",
          "output_type": "stream",
          "text": [
            "{'title': 'Why technology spending will rise even as tech stocks tank and layoffs mount - CNBC', 'description': 'Why technology spending will rise even as tech stocks tank and layoffs mount  CNBC', 'published date': 'Mon, 07 Nov 2022 08:00:00 GMT', 'url': 'https://www.cnbc.com/2022/11/07/why-tech-spending-will-rise-even-as-tech-stocks-tank-and-layoffs-mount.html', 'publisher': {'href': 'https://www.cnbc.com', 'title': 'CNBC'}}\n"
          ]
        }
      ],
      "source": [
        "google_news = GNews()\n",
        "technology = google_news.get_news('technology')\n",
        "print(technology[0-5])"
      ]
    },
    {
      "cell_type": "code",
      "execution_count": null,
      "metadata": {
        "colab": {
          "base_uri": "https://localhost:8080/"
        },
        "id": "ftGr__x6Zk34",
        "outputId": "8e59be38-efa2-484e-bed6-4091e8081a21"
      },
      "outputs": [
        {
          "name": "stdout",
          "output_type": "stream",
          "text": [
            "                                                title  \\\n",
            "0   Advanced Technology in Steel Manufacturing - T...   \n",
            "1   MSU showcases future of UAS technology with un...   \n",
            "2   How an electric aerospace company is using AWS...   \n",
            "3   Hillsborough's Quadridox Is Looking At X-ray T...   \n",
            "4   Equity in energy technology transition is new ...   \n",
            "..                                                ...   \n",
            "95  Why technology spending will rise even as tech...   \n",
            "96  IRA invests in the future of clean energy tech...   \n",
            "97  Can New Technology Make Home Dialysis a More R...   \n",
            "98  EmTech 2022: bridging the gap between humanity...   \n",
            "99  How technology is helping to revolutionize rea...   \n",
            "\n",
            "                                          description  \\\n",
            "0   Advanced Technology in Steel Manufacturing  Th...   \n",
            "1   MSU showcases future of UAS technology with un...   \n",
            "2   How an electric aerospace company is using AWS...   \n",
            "3   Hillsborough's Quadridox Is Looking At X-ray T...   \n",
            "4   Equity in energy technology transition is new ...   \n",
            "..                                                ...   \n",
            "95  Why technology spending will rise even as tech...   \n",
            "96  IRA invests in the future of clean energy tech...   \n",
            "97  Can New Technology Make Home Dialysis a More R...   \n",
            "98  EmTech 2022: bridging the gap between humanity...   \n",
            "99  How technology is helping to revolutionize rea...   \n",
            "\n",
            "                   published date  \\\n",
            "0   Thu, 01 Dec 2022 17:49:27 GMT   \n",
            "1   Thu, 01 Dec 2022 19:23:14 GMT   \n",
            "2   Thu, 01 Dec 2022 16:04:32 GMT   \n",
            "3   Thu, 01 Dec 2022 15:59:29 GMT   \n",
            "4   Thu, 01 Dec 2022 07:12:00 GMT   \n",
            "..                            ...   \n",
            "95  Mon, 07 Nov 2022 08:00:00 GMT   \n",
            "96  Thu, 10 Nov 2022 08:00:00 GMT   \n",
            "97  Thu, 10 Nov 2022 08:00:00 GMT   \n",
            "98  Thu, 03 Nov 2022 07:00:00 GMT   \n",
            "99  Mon, 14 Nov 2022 08:00:00 GMT   \n",
            "\n",
            "                                                  url  \\\n",
            "0   https://www.wsj.com/story/advanced-technology-...   \n",
            "1   http://www.msstate.edu/newsroom/article/2022/1...   \n",
            "2   https://www.aboutamazon.com/news/aws/electric-...   \n",
            "3   https://grepbeat.com/2022/12/01/hillsboroughs-...   \n",
            "4   https://record.umich.edu/articles/equity-in-en...   \n",
            "..                                                ...   \n",
            "95  https://www.cnbc.com/2022/11/07/why-tech-spend...   \n",
            "96  https://www.techtarget.com/searchcio/news/2525...   \n",
            "97  https://www.nytimes.com/2022/11/10/business/ho...   \n",
            "98  https://www.technologyreview.com/2022/11/03/10...   \n",
            "99  https://www.fastcompany.com/90809219/how-techn...   \n",
            "\n",
            "                                            publisher  \n",
            "0   {'href': 'https://www.wsj.com', 'title': 'The ...  \n",
            "1   {'href': 'http://www.msstate.edu', 'title': 'M...  \n",
            "2   {'href': 'https://www.aboutamazon.com', 'title...  \n",
            "3   {'href': 'https://grepbeat.com', 'title': 'Gre...  \n",
            "4   {'href': 'https://record.umich.edu', 'title': ...  \n",
            "..                                                ...  \n",
            "95  {'href': 'https://www.cnbc.com', 'title': 'CNBC'}  \n",
            "96  {'href': 'https://www.techtarget.com', 'title'...  \n",
            "97  {'href': 'https://www.nytimes.com', 'title': '...  \n",
            "98  {'href': 'https://www.technologyreview.com', '...  \n",
            "99  {'href': 'https://www.fastcompany.com', 'title...  \n",
            "\n",
            "[100 rows x 5 columns]\n"
          ]
        }
      ],
      "source": [
        "technology_df = pd.DataFrame(technology)\n",
        "print(technology_df)"
      ]
    },
    {
      "cell_type": "code",
      "execution_count": null,
      "metadata": {
        "id": "bMx3bE50WSXJ"
      },
      "outputs": [],
      "source": []
    },
    {
      "cell_type": "code",
      "execution_count": null,
      "metadata": {
        "id": "h4k3CxE1WSTq"
      },
      "outputs": [],
      "source": []
    },
    {
      "cell_type": "code",
      "execution_count": null,
      "metadata": {
        "id": "bkUqb4UeWSLK"
      },
      "outputs": [],
      "source": []
    }
  ],
  "metadata": {
    "colab": {
      "authorship_tag": "ABX9TyMM7lFVBg5F3cUwGQjCGFvx",
      "include_colab_link": true,
      "provenance": []
    },
    "kernelspec": {
      "display_name": "Python 3.7.13 ('dev')",
      "language": "python",
      "name": "python3"
    },
    "language_info": {
      "name": "python",
      "version": "3.7.13"
    },
    "vscode": {
      "interpreter": {
        "hash": "a063bac13fce55cb3a4d8d2fd841e5fdacb88827a70920fd1644b19982035a56"
      }
    }
  },
  "nbformat": 4,
  "nbformat_minor": 0
}
